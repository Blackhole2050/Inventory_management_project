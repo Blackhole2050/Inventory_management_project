{
  "nbformat": 4,
  "nbformat_minor": 0,
  "metadata": {
    "colab": {
      "name": "Adding_products.ipynb",
      "provenance": []
    },
    "kernelspec": {
      "name": "python3",
      "display_name": "Python 3"
    },
    "language_info": {
      "name": "python"
    }
  },
  "cells": [
    {
      "cell_type": "code",
      "metadata": {
        "id": "PgVLQRIkPPHc"
      },
      "source": [
        "import json\n",
        "files=open('files.json','r')\n",
        "r=files.read()\n",
        "files.close()"
      ],
      "execution_count": 34,
      "outputs": []
    },
    {
      "cell_type": "code",
      "metadata": {
        "colab": {
          "base_uri": "https://localhost:8080/",
          "height": 137
        },
        "id": "sofDbasZPVAi",
        "outputId": "2e4d29d2-a9b9-4dd5-e2aa-0cb0d8e7681d"
      },
      "source": [
        "r"
      ],
      "execution_count": 35,
      "outputs": [
        {
          "output_type": "execute_result",
          "data": {
            "application/vnd.google.colaboratory.intrinsic+json": {
              "type": "string"
            },
            "text/plain": [
              "'{\"19150001\": {\"Name\": \"Lays\", \"Price\": 10, \"Weight\": \"15g\", \"Quantity\": 20, \"Flavour\": \"Creamy Onion\"}, \"19150002\": {\"Name\": \"5 Star\", \"Price\": 10, \"Weight\": \"10g\", \"Quantity\": 25, \"Flavour\": \"Chocalate\"}, \"19150003\": {\"Name\": \"Kit Kat\", \"Price\": 15, \"Weight\": \"15g\", \"Quantity\": 25, \"Flavour\": \"Chocalate\"}, \"19150004\": {\"Name\": \"Lizzat Papad\", \"Price\": 54, \"Weight\": \"200g\", \"Quantity\": 50, \"Made from\": \"Urad Dal\"}, \"19150005\": {\"Name\": \"Bourbon\", \"Price\": 50, \"Weight\": \"100g\", \"Quantity\": 30, \"Flavour\": \"Vanilla\"}, \"19150006\": {\"Name\": \"Dark Fantasy\", \"Price\": 30, \"Weight\": \"75g\", \"Quantity\": 15, \"Flavour\": \"Chocalate\"}, \"19150007\": {\"Name\": \"Marie Gold\", \"Price\": 60, \"Weight\": \"150g\", \"Quantity\": 25, \"Brand\": \"Britania\"}, \"19150008\": {\"Name\": \"Nice\", \"Price\": 30, \"Weight\": \"200g\", \"Quantity\": 20, \"Brand\": \"Britania\"}, \"19150009\": {\"Name\": \"Maggie\", \"Price\": 10, \"Weight\": \"100g\", \"Quantity\": 100, \"Brand\": \"Nestle\"}, \"19150010\": {\"Name\": \"Nescafe\", \"Price\": 150, \"Weight\": \"100g\", \"Quantity\": 20, \"Brand\": \"Nestle\"}, \"19150011\": {\"Name\": \"Society Tea\", \"Price\": 80, \"Weight\": \"100g\", \"Quantity\": 25, \"Brand\": \"Society\"}, \"19150012\": {\"Name\": \"Premia Regular Kaju\", \"Price\": 485, \"Weight\": \"500g\", \"Quantity\": 25, \"Flavour\": \"Salted\"}, \"19150013\": {\"Name\": \"Jeera\", \"Price\": 47, \"Weight\": \"200g\", \"Quantity\": 25, \"Brand\": \"Premia\"}, \"19150014\": {\"Name\": \"Dry Coconut\", \"Price\": 180, \"Weight\": \"500g\", \"Quantity\": 10, \"Brand\": \"Premia\"}, \"19150015\": {\"Name\": \"Pistachio\", \"Price\": 242, \"Weight\": \"200g\", \"Quantity\": 25, \"Flavour\": \"Salted\"}, \"19150016\": {\"Name\": \"Dates\", \"Price\": 184, \"Weight\": \"500g\", \"Quantity\": 12, \"Brand\": \"Date Crown\"}, \"19150017\": {\"Name\": \"Black Pepper\", \"Price\": 70, \"Weight\": \"100g\", \"Quantity\": 30, \"Brand\": \"Premia\"}, \"19150018\": {\"Name\": \"Badishep\", \"Price\": 68, \"Weight\": \"200g\", \"Quantity\": 25, \"Brand\": \"Premia\"}, \"19150019\": {\"Name\": \"Dhaniya\", \"Price\": 105, \"Weight\": \"400g\", \"Quantity\": 25, \"Brand\": \"Premia\"}, \"19150020\": {\"Name\": \"Green elaichi\", \"Price\": 21, \"Weight\": \"10g\", \"Quantity\": 50, \"Brand\": \"Premia\"}, \"19150021\": {\"Name\": \"Perk\", \"Price\": 10, \"Weight\": \"20g\", \"Quantity\": 50, \"Flavour\": \"Chocalate\"}, \"19150022\": {\"Name\": \"Dairy Milk\", \"Price\": 10, \"Weight\": \"15g\", \"Quantity\": 50, \"Flavour\": \"Chocalate\"}, \"19150023\": {\"Name\": \"Emli\", \"Price\": 98, \"Weight\": \"500g\", \"Quantity\": 35, \"Brand\": \"Premia\"}, \"19150024\": {\"Name\": \"Poha\", \"Price\": 27, \"Weight\": \"500g\", \"Quantity\": 28, \"Brand\": \"Premia\"}, \"19150025\": {\"Name\": \"Haldi Powder\", \"Price\": 29, \"Weight\": \"200g\", \"Quantity\": 21, \"Brand\": \"Premia\"}, \"19150026\": {\"Name\": \"Chilli\", \"Price\": 51, \"Weight\": \"100g\", \"Quantity\": 29, \"Brand\": \"Premia\"}, \"19150027\": {\"Name\": \"Dhaniya dal\", \"Price\": 30, \"Weight\": \"100g\", \"Quantity\": 36, \"Brand\": \"Premia\"}, \"19150028\": {\"Name\": \"Dry Apricot\", \"Price\": 133, \"Weight\": \"200g\", \"Quantity\": 25, \"Brand\": \"Premia\"}, \"19150029\": {\"Name\": \"Malwani Masala\", \"Price\": 69, \"Weight\": \"200g\", \"Quantity\": 25, \"Brand\": \"Premia\"}, \"19150030\": {\"Name\": \"Jardalu\", \"Price\": 61, \"Weight\": \"100g\", \"Quantity\": 11, \"Brand\": \"Premia\"}}'"
            ]
          },
          "metadata": {},
          "execution_count": 35
        }
      ]
    },
    {
      "cell_type": "code",
      "metadata": {
        "id": "DYi_fWuET_4w"
      },
      "source": [
        "record = json.loads(r)"
      ],
      "execution_count": 36,
      "outputs": []
    },
    {
      "cell_type": "code",
      "metadata": {
        "colab": {
          "base_uri": "https://localhost:8080/"
        },
        "id": "uaxajJfnUOwr",
        "outputId": "e1517d52-c29e-45f1-df3c-6f48bebe4f9c"
      },
      "source": [
        "record"
      ],
      "execution_count": 37,
      "outputs": [
        {
          "output_type": "execute_result",
          "data": {
            "text/plain": [
              "{'19150001': {'Flavour': 'Creamy Onion',\n",
              "  'Name': 'Lays',\n",
              "  'Price': 10,\n",
              "  'Quantity': 20,\n",
              "  'Weight': '15g'},\n",
              " '19150002': {'Flavour': 'Chocalate',\n",
              "  'Name': '5 Star',\n",
              "  'Price': 10,\n",
              "  'Quantity': 25,\n",
              "  'Weight': '10g'},\n",
              " '19150003': {'Flavour': 'Chocalate',\n",
              "  'Name': 'Kit Kat',\n",
              "  'Price': 15,\n",
              "  'Quantity': 25,\n",
              "  'Weight': '15g'},\n",
              " '19150004': {'Made from': 'Urad Dal',\n",
              "  'Name': 'Lizzat Papad',\n",
              "  'Price': 54,\n",
              "  'Quantity': 50,\n",
              "  'Weight': '200g'},\n",
              " '19150005': {'Flavour': 'Vanilla',\n",
              "  'Name': 'Bourbon',\n",
              "  'Price': 50,\n",
              "  'Quantity': 30,\n",
              "  'Weight': '100g'},\n",
              " '19150006': {'Flavour': 'Chocalate',\n",
              "  'Name': 'Dark Fantasy',\n",
              "  'Price': 30,\n",
              "  'Quantity': 15,\n",
              "  'Weight': '75g'},\n",
              " '19150007': {'Brand': 'Britania',\n",
              "  'Name': 'Marie Gold',\n",
              "  'Price': 60,\n",
              "  'Quantity': 25,\n",
              "  'Weight': '150g'},\n",
              " '19150008': {'Brand': 'Britania',\n",
              "  'Name': 'Nice',\n",
              "  'Price': 30,\n",
              "  'Quantity': 20,\n",
              "  'Weight': '200g'},\n",
              " '19150009': {'Brand': 'Nestle',\n",
              "  'Name': 'Maggie',\n",
              "  'Price': 10,\n",
              "  'Quantity': 100,\n",
              "  'Weight': '100g'},\n",
              " '19150010': {'Brand': 'Nestle',\n",
              "  'Name': 'Nescafe',\n",
              "  'Price': 150,\n",
              "  'Quantity': 20,\n",
              "  'Weight': '100g'},\n",
              " '19150011': {'Brand': 'Society',\n",
              "  'Name': 'Society Tea',\n",
              "  'Price': 80,\n",
              "  'Quantity': 25,\n",
              "  'Weight': '100g'},\n",
              " '19150012': {'Flavour': 'Salted',\n",
              "  'Name': 'Premia Regular Kaju',\n",
              "  'Price': 485,\n",
              "  'Quantity': 25,\n",
              "  'Weight': '500g'},\n",
              " '19150013': {'Brand': 'Premia',\n",
              "  'Name': 'Jeera',\n",
              "  'Price': 47,\n",
              "  'Quantity': 25,\n",
              "  'Weight': '200g'},\n",
              " '19150014': {'Brand': 'Premia',\n",
              "  'Name': 'Dry Coconut',\n",
              "  'Price': 180,\n",
              "  'Quantity': 10,\n",
              "  'Weight': '500g'},\n",
              " '19150015': {'Flavour': 'Salted',\n",
              "  'Name': 'Pistachio',\n",
              "  'Price': 242,\n",
              "  'Quantity': 25,\n",
              "  'Weight': '200g'},\n",
              " '19150016': {'Brand': 'Date Crown',\n",
              "  'Name': 'Dates',\n",
              "  'Price': 184,\n",
              "  'Quantity': 12,\n",
              "  'Weight': '500g'},\n",
              " '19150017': {'Brand': 'Premia',\n",
              "  'Name': 'Black Pepper',\n",
              "  'Price': 70,\n",
              "  'Quantity': 30,\n",
              "  'Weight': '100g'},\n",
              " '19150018': {'Brand': 'Premia',\n",
              "  'Name': 'Badishep',\n",
              "  'Price': 68,\n",
              "  'Quantity': 25,\n",
              "  'Weight': '200g'},\n",
              " '19150019': {'Brand': 'Premia',\n",
              "  'Name': 'Dhaniya',\n",
              "  'Price': 105,\n",
              "  'Quantity': 25,\n",
              "  'Weight': '400g'},\n",
              " '19150020': {'Brand': 'Premia',\n",
              "  'Name': 'Green elaichi',\n",
              "  'Price': 21,\n",
              "  'Quantity': 50,\n",
              "  'Weight': '10g'},\n",
              " '19150021': {'Flavour': 'Chocalate',\n",
              "  'Name': 'Perk',\n",
              "  'Price': 10,\n",
              "  'Quantity': 50,\n",
              "  'Weight': '20g'},\n",
              " '19150022': {'Flavour': 'Chocalate',\n",
              "  'Name': 'Dairy Milk',\n",
              "  'Price': 10,\n",
              "  'Quantity': 50,\n",
              "  'Weight': '15g'},\n",
              " '19150023': {'Brand': 'Premia',\n",
              "  'Name': 'Emli',\n",
              "  'Price': 98,\n",
              "  'Quantity': 35,\n",
              "  'Weight': '500g'},\n",
              " '19150024': {'Brand': 'Premia',\n",
              "  'Name': 'Poha',\n",
              "  'Price': 27,\n",
              "  'Quantity': 28,\n",
              "  'Weight': '500g'},\n",
              " '19150025': {'Brand': 'Premia',\n",
              "  'Name': 'Haldi Powder',\n",
              "  'Price': 29,\n",
              "  'Quantity': 21,\n",
              "  'Weight': '200g'},\n",
              " '19150026': {'Brand': 'Premia',\n",
              "  'Name': 'Chilli',\n",
              "  'Price': 51,\n",
              "  'Quantity': 29,\n",
              "  'Weight': '100g'},\n",
              " '19150027': {'Brand': 'Premia',\n",
              "  'Name': 'Dhaniya dal',\n",
              "  'Price': 30,\n",
              "  'Quantity': 36,\n",
              "  'Weight': '100g'},\n",
              " '19150028': {'Brand': 'Premia',\n",
              "  'Name': 'Dry Apricot',\n",
              "  'Price': 133,\n",
              "  'Quantity': 25,\n",
              "  'Weight': '200g'},\n",
              " '19150029': {'Brand': 'Premia',\n",
              "  'Name': 'Malwani Masala',\n",
              "  'Price': 69,\n",
              "  'Quantity': 25,\n",
              "  'Weight': '200g'},\n",
              " '19150030': {'Brand': 'Premia',\n",
              "  'Name': 'Jardalu',\n",
              "  'Price': 61,\n",
              "  'Quantity': 11,\n",
              "  'Weight': '100g'}}"
            ]
          },
          "metadata": {},
          "execution_count": 37
        }
      ]
    },
    {
      "cell_type": "markdown",
      "metadata": {
        "id": "wzcpSSu_PyHX"
      },
      "source": [
        "# Adding a product into the inventory"
      ]
    },
    {
      "cell_type": "code",
      "metadata": {
        "colab": {
          "base_uri": "https://localhost:8080/"
        },
        "id": "FVguQFgDPWJx",
        "outputId": "936fdfcf-bfce-40e2-b9f7-5d9bacf5ed42"
      },
      "source": [
        "pid=19150030\n",
        "a=int(input('Enter the number of products you want to add into the inventory:- '))"
      ],
      "execution_count": 38,
      "outputs": [
        {
          "name": "stdout",
          "output_type": "stream",
          "text": [
            "Enter the number of products you want to add into the inventory:- 1\n"
          ]
        }
      ]
    },
    {
      "cell_type": "code",
      "metadata": {
        "colab": {
          "base_uri": "https://localhost:8080/"
        },
        "id": "jej5_cebQIV0",
        "outputId": "30581219-3a8a-43c4-de62-242f36b6fcab"
      },
      "source": [
        "print('Please make sure that the product ID is above ',pid,' so that no values get deleted ')\n",
        "for i in range(1,a+1):\n",
        "  prod_id = int(input(\"Enter product id:\"))\n",
        "  Name = (input('Enter name:-'))\n",
        "  Price = int(input('Enter price:-'))\n",
        "  Weight = (input('Enter Weight:-'))\n",
        "  Quantity= int(input('Enter quantity:-'))\n",
        "  Brand=input('Enter the brand:-')\n",
        "  record[prod_id]= {'Name': Name, 'Price': Price, 'Weight': Weight,'Quantity':Quantity,'Brand':Brand}\n",
        "pid+=a\n",
        "  \n",
        "\n"
      ],
      "execution_count": 40,
      "outputs": [
        {
          "name": "stdout",
          "output_type": "stream",
          "text": [
            "Please make sure that the product ID is above  19150030  so that no values get deleted \n",
            "Enter product id:19130031\n",
            "Enter name:-Khaskhas\n",
            "Enter price:-240\n",
            "Enter Weight:-100g\n",
            "Enter quantity:-12\n",
            "Enter the brand:-Premia\n"
          ]
        }
      ]
    },
    {
      "cell_type": "code",
      "metadata": {
        "colab": {
          "base_uri": "https://localhost:8080/"
        },
        "id": "jpUbEXAmVE33",
        "outputId": "97888764-bfa5-4e6b-d2b2-8a79aa2a4d48"
      },
      "source": [
        "record"
      ],
      "execution_count": 41,
      "outputs": [
        {
          "output_type": "execute_result",
          "data": {
            "text/plain": [
              "{19130031: {'Brand': 'Premia',\n",
              "  'Name': 'Khaskhas',\n",
              "  'Price': 240,\n",
              "  'Quantity': 12,\n",
              "  'Weight': '100g'},\n",
              " '19150001': {'Flavour': 'Creamy Onion',\n",
              "  'Name': 'Lays',\n",
              "  'Price': 10,\n",
              "  'Quantity': 20,\n",
              "  'Weight': '15g'},\n",
              " '19150002': {'Flavour': 'Chocalate',\n",
              "  'Name': '5 Star',\n",
              "  'Price': 10,\n",
              "  'Quantity': 25,\n",
              "  'Weight': '10g'},\n",
              " '19150003': {'Flavour': 'Chocalate',\n",
              "  'Name': 'Kit Kat',\n",
              "  'Price': 15,\n",
              "  'Quantity': 25,\n",
              "  'Weight': '15g'},\n",
              " '19150004': {'Made from': 'Urad Dal',\n",
              "  'Name': 'Lizzat Papad',\n",
              "  'Price': 54,\n",
              "  'Quantity': 50,\n",
              "  'Weight': '200g'},\n",
              " '19150005': {'Flavour': 'Vanilla',\n",
              "  'Name': 'Bourbon',\n",
              "  'Price': 50,\n",
              "  'Quantity': 30,\n",
              "  'Weight': '100g'},\n",
              " '19150006': {'Flavour': 'Chocalate',\n",
              "  'Name': 'Dark Fantasy',\n",
              "  'Price': 30,\n",
              "  'Quantity': 15,\n",
              "  'Weight': '75g'},\n",
              " '19150007': {'Brand': 'Britania',\n",
              "  'Name': 'Marie Gold',\n",
              "  'Price': 60,\n",
              "  'Quantity': 25,\n",
              "  'Weight': '150g'},\n",
              " '19150008': {'Brand': 'Britania',\n",
              "  'Name': 'Nice',\n",
              "  'Price': 30,\n",
              "  'Quantity': 20,\n",
              "  'Weight': '200g'},\n",
              " '19150009': {'Brand': 'Nestle',\n",
              "  'Name': 'Maggie',\n",
              "  'Price': 10,\n",
              "  'Quantity': 100,\n",
              "  'Weight': '100g'},\n",
              " '19150010': {'Brand': 'Nestle',\n",
              "  'Name': 'Nescafe',\n",
              "  'Price': 150,\n",
              "  'Quantity': 20,\n",
              "  'Weight': '100g'},\n",
              " '19150011': {'Brand': 'Society',\n",
              "  'Name': 'Society Tea',\n",
              "  'Price': 80,\n",
              "  'Quantity': 25,\n",
              "  'Weight': '100g'},\n",
              " '19150012': {'Flavour': 'Salted',\n",
              "  'Name': 'Premia Regular Kaju',\n",
              "  'Price': 485,\n",
              "  'Quantity': 25,\n",
              "  'Weight': '500g'},\n",
              " '19150013': {'Brand': 'Premia',\n",
              "  'Name': 'Jeera',\n",
              "  'Price': 47,\n",
              "  'Quantity': 25,\n",
              "  'Weight': '200g'},\n",
              " '19150014': {'Brand': 'Premia',\n",
              "  'Name': 'Dry Coconut',\n",
              "  'Price': 180,\n",
              "  'Quantity': 10,\n",
              "  'Weight': '500g'},\n",
              " '19150015': {'Flavour': 'Salted',\n",
              "  'Name': 'Pistachio',\n",
              "  'Price': 242,\n",
              "  'Quantity': 25,\n",
              "  'Weight': '200g'},\n",
              " '19150016': {'Brand': 'Date Crown',\n",
              "  'Name': 'Dates',\n",
              "  'Price': 184,\n",
              "  'Quantity': 12,\n",
              "  'Weight': '500g'},\n",
              " '19150017': {'Brand': 'Premia',\n",
              "  'Name': 'Black Pepper',\n",
              "  'Price': 70,\n",
              "  'Quantity': 30,\n",
              "  'Weight': '100g'},\n",
              " '19150018': {'Brand': 'Premia',\n",
              "  'Name': 'Badishep',\n",
              "  'Price': 68,\n",
              "  'Quantity': 25,\n",
              "  'Weight': '200g'},\n",
              " '19150019': {'Brand': 'Premia',\n",
              "  'Name': 'Dhaniya',\n",
              "  'Price': 105,\n",
              "  'Quantity': 25,\n",
              "  'Weight': '400g'},\n",
              " '19150020': {'Brand': 'Premia',\n",
              "  'Name': 'Green elaichi',\n",
              "  'Price': 21,\n",
              "  'Quantity': 50,\n",
              "  'Weight': '10g'},\n",
              " '19150021': {'Flavour': 'Chocalate',\n",
              "  'Name': 'Perk',\n",
              "  'Price': 10,\n",
              "  'Quantity': 50,\n",
              "  'Weight': '20g'},\n",
              " '19150022': {'Flavour': 'Chocalate',\n",
              "  'Name': 'Dairy Milk',\n",
              "  'Price': 10,\n",
              "  'Quantity': 50,\n",
              "  'Weight': '15g'},\n",
              " '19150023': {'Brand': 'Premia',\n",
              "  'Name': 'Emli',\n",
              "  'Price': 98,\n",
              "  'Quantity': 35,\n",
              "  'Weight': '500g'},\n",
              " '19150024': {'Brand': 'Premia',\n",
              "  'Name': 'Poha',\n",
              "  'Price': 27,\n",
              "  'Quantity': 28,\n",
              "  'Weight': '500g'},\n",
              " '19150025': {'Brand': 'Premia',\n",
              "  'Name': 'Haldi Powder',\n",
              "  'Price': 29,\n",
              "  'Quantity': 21,\n",
              "  'Weight': '200g'},\n",
              " '19150026': {'Brand': 'Premia',\n",
              "  'Name': 'Chilli',\n",
              "  'Price': 51,\n",
              "  'Quantity': 29,\n",
              "  'Weight': '100g'},\n",
              " '19150027': {'Brand': 'Premia',\n",
              "  'Name': 'Dhaniya dal',\n",
              "  'Price': 30,\n",
              "  'Quantity': 36,\n",
              "  'Weight': '100g'},\n",
              " '19150028': {'Brand': 'Premia',\n",
              "  'Name': 'Dry Apricot',\n",
              "  'Price': 133,\n",
              "  'Quantity': 25,\n",
              "  'Weight': '200g'},\n",
              " '19150029': {'Brand': 'Premia',\n",
              "  'Name': 'Malwani Masala',\n",
              "  'Price': 69,\n",
              "  'Quantity': 25,\n",
              "  'Weight': '200g'},\n",
              " '19150030': {'Brand': 'Premia',\n",
              "  'Name': 'Jardalu',\n",
              "  'Price': 61,\n",
              "  'Quantity': 11,\n",
              "  'Weight': '100g'}}"
            ]
          },
          "metadata": {},
          "execution_count": 41
        }
      ]
    },
    {
      "cell_type": "markdown",
      "metadata": {
        "id": "HJrJAPlfW-aA"
      },
      "source": [
        "# Updating values of quantity in Inventory"
      ]
    },
    {
      "cell_type": "code",
      "metadata": {
        "colab": {
          "base_uri": "https://localhost:8080/"
        },
        "id": "w9tXILkCVJZG",
        "outputId": "c80eb916-f3ad-4915-e05e-c5d3ba82ed6f"
      },
      "source": [
        "prod_id =int(input(\"Enter product id:\"))\n",
        "q=int(input(\"Enter quantity you want to add to the existing record \"))\n",
        "for i in range(19150001,pid+1):\n",
        "  if(prod_id==i):\n",
        "    print('Your item is found ')\n",
        "    record[str(i)]['Quantity']= record[str(i)]['Quantity']+q\n",
        "\n",
        " \n",
        " \n",
        "  "
      ],
      "execution_count": 42,
      "outputs": [
        {
          "output_type": "stream",
          "name": "stdout",
          "text": [
            "Enter product id:19150003\n",
            "Enter quantity you want to add to the existing record 10\n",
            "Your item is found \n"
          ]
        }
      ]
    },
    {
      "cell_type": "code",
      "metadata": {
        "colab": {
          "base_uri": "https://localhost:8080/"
        },
        "id": "R5_ZNyJgZge0",
        "outputId": "64aed1c7-9cdb-4357-86f5-97965b2d8218"
      },
      "source": [
        "record"
      ],
      "execution_count": 43,
      "outputs": [
        {
          "output_type": "execute_result",
          "data": {
            "text/plain": [
              "{19130031: {'Brand': 'Premia',\n",
              "  'Name': 'Khaskhas',\n",
              "  'Price': 240,\n",
              "  'Quantity': 12,\n",
              "  'Weight': '100g'},\n",
              " '19150001': {'Flavour': 'Creamy Onion',\n",
              "  'Name': 'Lays',\n",
              "  'Price': 10,\n",
              "  'Quantity': 20,\n",
              "  'Weight': '15g'},\n",
              " '19150002': {'Flavour': 'Chocalate',\n",
              "  'Name': '5 Star',\n",
              "  'Price': 10,\n",
              "  'Quantity': 25,\n",
              "  'Weight': '10g'},\n",
              " '19150003': {'Flavour': 'Chocalate',\n",
              "  'Name': 'Kit Kat',\n",
              "  'Price': 15,\n",
              "  'Quantity': 35,\n",
              "  'Weight': '15g'},\n",
              " '19150004': {'Made from': 'Urad Dal',\n",
              "  'Name': 'Lizzat Papad',\n",
              "  'Price': 54,\n",
              "  'Quantity': 50,\n",
              "  'Weight': '200g'},\n",
              " '19150005': {'Flavour': 'Vanilla',\n",
              "  'Name': 'Bourbon',\n",
              "  'Price': 50,\n",
              "  'Quantity': 30,\n",
              "  'Weight': '100g'},\n",
              " '19150006': {'Flavour': 'Chocalate',\n",
              "  'Name': 'Dark Fantasy',\n",
              "  'Price': 30,\n",
              "  'Quantity': 15,\n",
              "  'Weight': '75g'},\n",
              " '19150007': {'Brand': 'Britania',\n",
              "  'Name': 'Marie Gold',\n",
              "  'Price': 60,\n",
              "  'Quantity': 25,\n",
              "  'Weight': '150g'},\n",
              " '19150008': {'Brand': 'Britania',\n",
              "  'Name': 'Nice',\n",
              "  'Price': 30,\n",
              "  'Quantity': 20,\n",
              "  'Weight': '200g'},\n",
              " '19150009': {'Brand': 'Nestle',\n",
              "  'Name': 'Maggie',\n",
              "  'Price': 10,\n",
              "  'Quantity': 100,\n",
              "  'Weight': '100g'},\n",
              " '19150010': {'Brand': 'Nestle',\n",
              "  'Name': 'Nescafe',\n",
              "  'Price': 150,\n",
              "  'Quantity': 20,\n",
              "  'Weight': '100g'},\n",
              " '19150011': {'Brand': 'Society',\n",
              "  'Name': 'Society Tea',\n",
              "  'Price': 80,\n",
              "  'Quantity': 25,\n",
              "  'Weight': '100g'},\n",
              " '19150012': {'Flavour': 'Salted',\n",
              "  'Name': 'Premia Regular Kaju',\n",
              "  'Price': 485,\n",
              "  'Quantity': 25,\n",
              "  'Weight': '500g'},\n",
              " '19150013': {'Brand': 'Premia',\n",
              "  'Name': 'Jeera',\n",
              "  'Price': 47,\n",
              "  'Quantity': 25,\n",
              "  'Weight': '200g'},\n",
              " '19150014': {'Brand': 'Premia',\n",
              "  'Name': 'Dry Coconut',\n",
              "  'Price': 180,\n",
              "  'Quantity': 10,\n",
              "  'Weight': '500g'},\n",
              " '19150015': {'Flavour': 'Salted',\n",
              "  'Name': 'Pistachio',\n",
              "  'Price': 242,\n",
              "  'Quantity': 25,\n",
              "  'Weight': '200g'},\n",
              " '19150016': {'Brand': 'Date Crown',\n",
              "  'Name': 'Dates',\n",
              "  'Price': 184,\n",
              "  'Quantity': 12,\n",
              "  'Weight': '500g'},\n",
              " '19150017': {'Brand': 'Premia',\n",
              "  'Name': 'Black Pepper',\n",
              "  'Price': 70,\n",
              "  'Quantity': 30,\n",
              "  'Weight': '100g'},\n",
              " '19150018': {'Brand': 'Premia',\n",
              "  'Name': 'Badishep',\n",
              "  'Price': 68,\n",
              "  'Quantity': 25,\n",
              "  'Weight': '200g'},\n",
              " '19150019': {'Brand': 'Premia',\n",
              "  'Name': 'Dhaniya',\n",
              "  'Price': 105,\n",
              "  'Quantity': 25,\n",
              "  'Weight': '400g'},\n",
              " '19150020': {'Brand': 'Premia',\n",
              "  'Name': 'Green elaichi',\n",
              "  'Price': 21,\n",
              "  'Quantity': 50,\n",
              "  'Weight': '10g'},\n",
              " '19150021': {'Flavour': 'Chocalate',\n",
              "  'Name': 'Perk',\n",
              "  'Price': 10,\n",
              "  'Quantity': 50,\n",
              "  'Weight': '20g'},\n",
              " '19150022': {'Flavour': 'Chocalate',\n",
              "  'Name': 'Dairy Milk',\n",
              "  'Price': 10,\n",
              "  'Quantity': 50,\n",
              "  'Weight': '15g'},\n",
              " '19150023': {'Brand': 'Premia',\n",
              "  'Name': 'Emli',\n",
              "  'Price': 98,\n",
              "  'Quantity': 35,\n",
              "  'Weight': '500g'},\n",
              " '19150024': {'Brand': 'Premia',\n",
              "  'Name': 'Poha',\n",
              "  'Price': 27,\n",
              "  'Quantity': 28,\n",
              "  'Weight': '500g'},\n",
              " '19150025': {'Brand': 'Premia',\n",
              "  'Name': 'Haldi Powder',\n",
              "  'Price': 29,\n",
              "  'Quantity': 21,\n",
              "  'Weight': '200g'},\n",
              " '19150026': {'Brand': 'Premia',\n",
              "  'Name': 'Chilli',\n",
              "  'Price': 51,\n",
              "  'Quantity': 29,\n",
              "  'Weight': '100g'},\n",
              " '19150027': {'Brand': 'Premia',\n",
              "  'Name': 'Dhaniya dal',\n",
              "  'Price': 30,\n",
              "  'Quantity': 36,\n",
              "  'Weight': '100g'},\n",
              " '19150028': {'Brand': 'Premia',\n",
              "  'Name': 'Dry Apricot',\n",
              "  'Price': 133,\n",
              "  'Quantity': 25,\n",
              "  'Weight': '200g'},\n",
              " '19150029': {'Brand': 'Premia',\n",
              "  'Name': 'Malwani Masala',\n",
              "  'Price': 69,\n",
              "  'Quantity': 25,\n",
              "  'Weight': '200g'},\n",
              " '19150030': {'Brand': 'Premia',\n",
              "  'Name': 'Jardalu',\n",
              "  'Price': 61,\n",
              "  'Quantity': 11,\n",
              "  'Weight': '100g'}}"
            ]
          },
          "metadata": {},
          "execution_count": 43
        }
      ]
    },
    {
      "cell_type": "markdown",
      "metadata": {
        "id": "_vvvBdsNb8M9"
      },
      "source": [
        "# Deleting a record in the inventory"
      ]
    },
    {
      "cell_type": "code",
      "metadata": {
        "colab": {
          "base_uri": "https://localhost:8080/"
        },
        "id": "BuNaD1qTbwHq",
        "outputId": "0fdd6f38-06ac-4be2-f253-c3e6a35cf7fd"
      },
      "source": [
        "count=0\n",
        "prod_id=int(input('Enter the product id for the product you want to delete '))\n",
        "for i in range(19150001,pid+1):\n",
        "  if(prod_id==i):\n",
        "    print('Your product is found and deleted')\n",
        "    del record[str(i)]\n",
        "    break\n",
        "  else:\n",
        "    count+=1\n",
        "if(count==pid):\n",
        "  print('Item not found')"
      ],
      "execution_count": 44,
      "outputs": [
        {
          "output_type": "stream",
          "name": "stdout",
          "text": [
            "Enter the product id for the product you want to delete 19150008\n",
            "Your product is found and deleted\n"
          ]
        }
      ]
    },
    {
      "cell_type": "code",
      "metadata": {
        "colab": {
          "base_uri": "https://localhost:8080/"
        },
        "id": "LXv-O8tEfGUo",
        "outputId": "fc725ad3-dd0f-4499-80e2-fea253f22c91"
      },
      "source": [
        "record"
      ],
      "execution_count": 45,
      "outputs": [
        {
          "output_type": "execute_result",
          "data": {
            "text/plain": [
              "{19130031: {'Brand': 'Premia',\n",
              "  'Name': 'Khaskhas',\n",
              "  'Price': 240,\n",
              "  'Quantity': 12,\n",
              "  'Weight': '100g'},\n",
              " '19150001': {'Flavour': 'Creamy Onion',\n",
              "  'Name': 'Lays',\n",
              "  'Price': 10,\n",
              "  'Quantity': 20,\n",
              "  'Weight': '15g'},\n",
              " '19150002': {'Flavour': 'Chocalate',\n",
              "  'Name': '5 Star',\n",
              "  'Price': 10,\n",
              "  'Quantity': 25,\n",
              "  'Weight': '10g'},\n",
              " '19150003': {'Flavour': 'Chocalate',\n",
              "  'Name': 'Kit Kat',\n",
              "  'Price': 15,\n",
              "  'Quantity': 35,\n",
              "  'Weight': '15g'},\n",
              " '19150004': {'Made from': 'Urad Dal',\n",
              "  'Name': 'Lizzat Papad',\n",
              "  'Price': 54,\n",
              "  'Quantity': 50,\n",
              "  'Weight': '200g'},\n",
              " '19150005': {'Flavour': 'Vanilla',\n",
              "  'Name': 'Bourbon',\n",
              "  'Price': 50,\n",
              "  'Quantity': 30,\n",
              "  'Weight': '100g'},\n",
              " '19150006': {'Flavour': 'Chocalate',\n",
              "  'Name': 'Dark Fantasy',\n",
              "  'Price': 30,\n",
              "  'Quantity': 15,\n",
              "  'Weight': '75g'},\n",
              " '19150007': {'Brand': 'Britania',\n",
              "  'Name': 'Marie Gold',\n",
              "  'Price': 60,\n",
              "  'Quantity': 25,\n",
              "  'Weight': '150g'},\n",
              " '19150009': {'Brand': 'Nestle',\n",
              "  'Name': 'Maggie',\n",
              "  'Price': 10,\n",
              "  'Quantity': 100,\n",
              "  'Weight': '100g'},\n",
              " '19150010': {'Brand': 'Nestle',\n",
              "  'Name': 'Nescafe',\n",
              "  'Price': 150,\n",
              "  'Quantity': 20,\n",
              "  'Weight': '100g'},\n",
              " '19150011': {'Brand': 'Society',\n",
              "  'Name': 'Society Tea',\n",
              "  'Price': 80,\n",
              "  'Quantity': 25,\n",
              "  'Weight': '100g'},\n",
              " '19150012': {'Flavour': 'Salted',\n",
              "  'Name': 'Premia Regular Kaju',\n",
              "  'Price': 485,\n",
              "  'Quantity': 25,\n",
              "  'Weight': '500g'},\n",
              " '19150013': {'Brand': 'Premia',\n",
              "  'Name': 'Jeera',\n",
              "  'Price': 47,\n",
              "  'Quantity': 25,\n",
              "  'Weight': '200g'},\n",
              " '19150014': {'Brand': 'Premia',\n",
              "  'Name': 'Dry Coconut',\n",
              "  'Price': 180,\n",
              "  'Quantity': 10,\n",
              "  'Weight': '500g'},\n",
              " '19150015': {'Flavour': 'Salted',\n",
              "  'Name': 'Pistachio',\n",
              "  'Price': 242,\n",
              "  'Quantity': 25,\n",
              "  'Weight': '200g'},\n",
              " '19150016': {'Brand': 'Date Crown',\n",
              "  'Name': 'Dates',\n",
              "  'Price': 184,\n",
              "  'Quantity': 12,\n",
              "  'Weight': '500g'},\n",
              " '19150017': {'Brand': 'Premia',\n",
              "  'Name': 'Black Pepper',\n",
              "  'Price': 70,\n",
              "  'Quantity': 30,\n",
              "  'Weight': '100g'},\n",
              " '19150018': {'Brand': 'Premia',\n",
              "  'Name': 'Badishep',\n",
              "  'Price': 68,\n",
              "  'Quantity': 25,\n",
              "  'Weight': '200g'},\n",
              " '19150019': {'Brand': 'Premia',\n",
              "  'Name': 'Dhaniya',\n",
              "  'Price': 105,\n",
              "  'Quantity': 25,\n",
              "  'Weight': '400g'},\n",
              " '19150020': {'Brand': 'Premia',\n",
              "  'Name': 'Green elaichi',\n",
              "  'Price': 21,\n",
              "  'Quantity': 50,\n",
              "  'Weight': '10g'},\n",
              " '19150021': {'Flavour': 'Chocalate',\n",
              "  'Name': 'Perk',\n",
              "  'Price': 10,\n",
              "  'Quantity': 50,\n",
              "  'Weight': '20g'},\n",
              " '19150022': {'Flavour': 'Chocalate',\n",
              "  'Name': 'Dairy Milk',\n",
              "  'Price': 10,\n",
              "  'Quantity': 50,\n",
              "  'Weight': '15g'},\n",
              " '19150023': {'Brand': 'Premia',\n",
              "  'Name': 'Emli',\n",
              "  'Price': 98,\n",
              "  'Quantity': 35,\n",
              "  'Weight': '500g'},\n",
              " '19150024': {'Brand': 'Premia',\n",
              "  'Name': 'Poha',\n",
              "  'Price': 27,\n",
              "  'Quantity': 28,\n",
              "  'Weight': '500g'},\n",
              " '19150025': {'Brand': 'Premia',\n",
              "  'Name': 'Haldi Powder',\n",
              "  'Price': 29,\n",
              "  'Quantity': 21,\n",
              "  'Weight': '200g'},\n",
              " '19150026': {'Brand': 'Premia',\n",
              "  'Name': 'Chilli',\n",
              "  'Price': 51,\n",
              "  'Quantity': 29,\n",
              "  'Weight': '100g'},\n",
              " '19150027': {'Brand': 'Premia',\n",
              "  'Name': 'Dhaniya dal',\n",
              "  'Price': 30,\n",
              "  'Quantity': 36,\n",
              "  'Weight': '100g'},\n",
              " '19150028': {'Brand': 'Premia',\n",
              "  'Name': 'Dry Apricot',\n",
              "  'Price': 133,\n",
              "  'Quantity': 25,\n",
              "  'Weight': '200g'},\n",
              " '19150029': {'Brand': 'Premia',\n",
              "  'Name': 'Malwani Masala',\n",
              "  'Price': 69,\n",
              "  'Quantity': 25,\n",
              "  'Weight': '200g'},\n",
              " '19150030': {'Brand': 'Premia',\n",
              "  'Name': 'Jardalu',\n",
              "  'Price': 61,\n",
              "  'Quantity': 11,\n",
              "  'Weight': '100g'}}"
            ]
          },
          "metadata": {},
          "execution_count": 45
        }
      ]
    },
    {
      "cell_type": "markdown",
      "metadata": {
        "id": "tdz4EJeb5YzJ"
      },
      "source": [
        "# Saving the inventory as a JSON file"
      ]
    },
    {
      "cell_type": "code",
      "metadata": {
        "id": "0WgEdHU48KD7"
      },
      "source": [
        "record=json.dumps(record)"
      ],
      "execution_count": 47,
      "outputs": []
    },
    {
      "cell_type": "code",
      "metadata": {
        "id": "grHkVIGffHsW"
      },
      "source": [
        "files=open('inventory.json','w')\n",
        "files.write(record)\n",
        "files.close()"
      ],
      "execution_count": 49,
      "outputs": []
    }
  ]
}