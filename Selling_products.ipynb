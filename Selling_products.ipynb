{
  "nbformat": 4,
  "nbformat_minor": 0,
  "metadata": {
    "colab": {
      "name": "Selling_products.ipynb",
      "provenance": [],
      "collapsed_sections": []
    },
    "kernelspec": {
      "name": "python3",
      "display_name": "Python 3"
    },
    "language_info": {
      "name": "python"
    }
  },
  "cells": [
    {
      "cell_type": "code",
      "metadata": {
        "id": "vVoUMi2zYmxK"
      },
      "source": [
        "import json"
      ],
      "execution_count": 33,
      "outputs": []
    },
    {
      "cell_type": "code",
      "metadata": {
        "id": "7k7kXNYMg7pE"
      },
      "source": [
        "sales={}\n",
        "r=1"
      ],
      "execution_count": 34,
      "outputs": []
    },
    {
      "cell_type": "code",
      "metadata": {
        "id": "HX31QNjhYov_"
      },
      "source": [
        "files=open('files.json','r')\n",
        "text=files.read()\n",
        "files.close()"
      ],
      "execution_count": 35,
      "outputs": []
    },
    {
      "cell_type": "code",
      "metadata": {
        "colab": {
          "base_uri": "https://localhost:8080/",
          "height": 389
        },
        "id": "UQR_RYudZhpA",
        "outputId": "1a85d36e-7939-421d-901e-7473f8251481"
      },
      "source": [
        "text"
      ],
      "execution_count": 36,
      "outputs": [
        {
          "output_type": "execute_result",
          "data": {
            "application/vnd.google.colaboratory.intrinsic+json": {
              "type": "string"
            },
            "text/plain": [
              "'{\"19150001\": {\"Name\": \"Lays\", \"Price\": 10, \"Weight\": \"15g\", \"Quantity\": 20, \"Flavour\": \"Creamy Onion\"}, \"19150002\": {\"Name\": \"5 Star\", \"Price\": 10, \"Weight\": \"10g\", \"Quantity\": 25, \"Flavour\": \"Chocalate\"}, \"19150003\": {\"Name\": \"Kit Kat\", \"Price\": 15, \"Weight\": \"15g\", \"Quantity\": 25, \"Flavour\": \"Chocalate\"}, \"19150004\": {\"Name\": \"Lizzat Papad\", \"Price\": 54, \"Weight\": \"200g\", \"Quantity\": 50, \"Made from\": \"Urad Dal\"}, \"19150005\": {\"Name\": \"Bourbon\", \"Price\": 50, \"Weight\": \"100g\", \"Quantity\": 30, \"Flavour\": \"Vanilla\"}, \"19150006\": {\"Name\": \"Dark Fantasy\", \"Price\": 30, \"Weight\": \"75g\", \"Quantity\": 15, \"Flavour\": \"Chocalate\"}, \"19150007\": {\"Name\": \"Marie Gold\", \"Price\": 60, \"Weight\": \"150g\", \"Quantity\": 25, \"Brand\": \"Britania\"}, \"19150008\": {\"Name\": \"Nice\", \"Price\": 30, \"Weight\": \"200g\", \"Quantity\": 20, \"Brand\": \"Britania\"}, \"19150009\": {\"Name\": \"Maggie\", \"Price\": 10, \"Weight\": \"100g\", \"Quantity\": 100, \"Brand\": \"Nestle\"}, \"19150010\": {\"Name\": \"Nescafe\", \"Price\": 150, \"Weight\": \"100g\", \"Quantity\": 20, \"Brand\": \"Nestle\"}, \"19150011\": {\"Name\": \"Society Tea\", \"Price\": 80, \"Weight\": \"100g\", \"Quantity\": 25, \"Brand\": \"Society\"}, \"19150012\": {\"Name\": \"Premia Regular Kaju\", \"Price\": 485, \"Weight\": \"500g\", \"Quantity\": 25, \"Flavour\": \"Salted\"}, \"19150013\": {\"Name\": \"Jeera\", \"Price\": 47, \"Weight\": \"200g\", \"Quantity\": 25, \"Brand\": \"Premia\"}, \"19150014\": {\"Name\": \"Dry Coconut\", \"Price\": 180, \"Weight\": \"500g\", \"Quantity\": 10, \"Brand\": \"Premia\"}, \"19150015\": {\"Name\": \"Pistachio\", \"Price\": 242, \"Weight\": \"200g\", \"Quantity\": 25, \"Flavour\": \"Salted\"}, \"19150016\": {\"Name\": \"Dates\", \"Price\": 184, \"Weight\": \"500g\", \"Quantity\": 12, \"Brand\": \"Date Crown\"}, \"19150017\": {\"Name\": \"Black Pepper\", \"Price\": 70, \"Weight\": \"100g\", \"Quantity\": 30, \"Brand\": \"Premia\"}, \"19150018\": {\"Name\": \"Badishep\", \"Price\": 68, \"Weight\": \"200g\", \"Quantity\": 25, \"Brand\": \"Premia\"}, \"19150019\": {\"Name\": \"Dhaniya\", \"Price\": 105, \"Weight\": \"400g\", \"Quantity\": 25, \"Brand\": \"Premia\"}, \"19150020\": {\"Name\": \"Green elaichi\", \"Price\": 21, \"Weight\": \"10g\", \"Quantity\": 50, \"Brand\": \"Premia\"}, \"19150021\": {\"Name\": \"Perk\", \"Price\": 10, \"Weight\": \"20g\", \"Quantity\": 50, \"Flavour\": \"Chocalate\"}, \"19150022\": {\"Name\": \"Dairy Milk\", \"Price\": 10, \"Weight\": \"15g\", \"Quantity\": 50, \"Flavour\": \"Chocalate\"}, \"19150023\": {\"Name\": \"Emli\", \"Price\": 98, \"Weight\": \"500g\", \"Quantity\": 35, \"Brand\": \"Premia\"}, \"19150024\": {\"Name\": \"Poha\", \"Price\": 27, \"Weight\": \"500g\", \"Quantity\": 28, \"Brand\": \"Premia\"}, \"19150025\": {\"Name\": \"Haldi Powder\", \"Price\": 29, \"Weight\": \"200g\", \"Quantity\": 21, \"Brand\": \"Premia\"}, \"19150026\": {\"Name\": \"Chilli\", \"Price\": 51, \"Weight\": \"100g\", \"Quantity\": 29, \"Brand\": \"Premia\"}, \"19150027\": {\"Name\": \"Dhaniya dal\", \"Price\": 30, \"Weight\": \"100g\", \"Quantity\": 36, \"Brand\": \"Premia\"}, \"19150028\": {\"Name\": \"Dry Apricot\", \"Price\": 133, \"Weight\": \"200g\", \"Quantity\": 25, \"Brand\": \"Premia\"}, \"19150029\": {\"Name\": \"Malwani Masala\", \"Price\": 69, \"Weight\": \"200g\", \"Quantity\": 25, \"Brand\": \"Premia\"}, \"19150030\": {\"Name\": \"Jardalu\", \"Price\": 61, \"Weight\": \"100g\", \"Quantity\": 11, \"Brand\": \"Premia\"}}'"
            ]
          },
          "metadata": {},
          "execution_count": 36
        }
      ]
    },
    {
      "cell_type": "code",
      "metadata": {
        "id": "W8hcBuaTZxh0",
        "colab": {
          "base_uri": "https://localhost:8080/"
        },
        "outputId": "b2ef7fb9-596d-4ebf-8869-cb28ad2523b3"
      },
      "source": [
        "inventory_updated=json.loads(text)\n",
        "limit=19150000+len(inventory_updated)+1\n",
        "limit"
      ],
      "execution_count": 37,
      "outputs": [
        {
          "output_type": "execute_result",
          "data": {
            "text/plain": [
              "19150031"
            ]
          },
          "metadata": {},
          "execution_count": 37
        }
      ]
    },
    {
      "cell_type": "code",
      "metadata": {
        "colab": {
          "base_uri": "https://localhost:8080/"
        },
        "id": "JwhxU91HZ0ET",
        "outputId": "64ed7422-5070-4ebe-868b-6d4e32a37a7f"
      },
      "source": [
        "prod=int(input('Enter the product ID of the item that you want to buy:- '))"
      ],
      "execution_count": 128,
      "outputs": [
        {
          "name": "stdout",
          "output_type": "stream",
          "text": [
            "Enter the product ID of the item that you want to buy:- 19150020\n"
          ]
        }
      ]
    },
    {
      "cell_type": "code",
      "metadata": {
        "colab": {
          "base_uri": "https://localhost:8080/"
        },
        "id": "L-z_EZHqcIEg",
        "outputId": "fb9b3469-2e80-427f-b3c2-6f173e865a79"
      },
      "source": [
        "amount=int(input('Enter the desirable amount:- '))"
      ],
      "execution_count": 129,
      "outputs": [
        {
          "name": "stdout",
          "output_type": "stream",
          "text": [
            "Enter the desirable amount:- 5\n"
          ]
        }
      ]
    },
    {
      "cell_type": "code",
      "metadata": {
        "colab": {
          "base_uri": "https://localhost:8080/"
        },
        "id": "Dvky-lD2aDNQ",
        "outputId": "72998cfe-b1dc-4ffa-af79-a7192057addb"
      },
      "source": [
        "import time\n",
        "count=0\n",
        "for i in range(19150001,limit):\n",
        "  if(prod!=i):\n",
        "    count+=1\n",
        "  elif(prod==i):\n",
        "    if(amount>inventory_updated[str(i)]['Quantity']):\n",
        "      print('We dont have the desirable stock')\n",
        "    else:\n",
        "      z=i\n",
        "      print('We have the required products and are processing your request \\n\\n')\n",
        "      print('***********************')\n",
        "      print('Product ID: ',str(i))\n",
        "      print('Name: ', inventory_updated[str(i)]['Name'])\n",
        "      print('Price per unit: ',inventory_updated[str(i)]['Price'])\n",
        "      print('Quantity: ',amount)\n",
        "      print('Total price: ',inventory_updated[str(i)]['Price']*amount)\n",
        "      print('------------------------')\n",
        "      print('Billing Amount after 3% GST: ',inventory_updated[str(i)]['Price']*amount*0.03+inventory_updated[str(i)]['Price']*amount)\n",
        "      print('Order time:- ',time.ctime())\n",
        "      print(\"***********************\\n\\n\")\n",
        "      print('We hope you have liked our service and see you soon\\n')\n",
        "      print('Please dont forget to rate us on our website www.Foodies.com')\n",
        "      print('Have a great day\\n\\n\\n')\n",
        "      print('***********************')\n",
        "    \n",
        "      inventory_updated[str(i)]['Quantity']=inventory_updated[str(i)]['Quantity']-amount\n",
        "      \n",
        "        \n",
        "        \n",
        "if(count==len(inventory_updated)):\n",
        "  print('The entered item does not exist')\n"
      ],
      "execution_count": 130,
      "outputs": [
        {
          "output_type": "stream",
          "name": "stdout",
          "text": [
            "We have the required products and are processing your request \n",
            "\n",
            "\n",
            "***********************\n",
            "Product ID:  19150020\n",
            "Name:  Green elaichi\n",
            "Price per unit:  21\n",
            "Quantity:  5\n",
            "Total price:  105\n",
            "------------------------\n",
            "Billing Amount after 3% GST:  108.15\n",
            "Order time:-  Mon Sep  6 05:31:43 2021\n",
            "***********************\n",
            "\n",
            "\n",
            "We hope you have liked our service and see you soon\n",
            "\n",
            "Please dont forget to rate us on our website www.Foodies.com\n",
            "Have a great day\n",
            "\n",
            "\n",
            "\n",
            "***********************\n"
          ]
        }
      ]
    },
    {
      "cell_type": "code",
      "metadata": {
        "colab": {
          "base_uri": "https://localhost:8080/"
        },
        "id": "MK-IrLp-jIIK",
        "outputId": "c094649e-9500-489a-f25f-24df534de88f"
      },
      "source": [
        "inventory_updated"
      ],
      "execution_count": 131,
      "outputs": [
        {
          "output_type": "execute_result",
          "data": {
            "text/plain": [
              "{'19150001': {'Flavour': 'Creamy Onion',\n",
              "  'Name': 'Lays',\n",
              "  'Price': 10,\n",
              "  'Quantity': 20,\n",
              "  'Weight': '15g'},\n",
              " '19150002': {'Flavour': 'Chocalate',\n",
              "  'Name': '5 Star',\n",
              "  'Price': 10,\n",
              "  'Quantity': 25,\n",
              "  'Weight': '10g'},\n",
              " '19150003': {'Flavour': 'Chocalate',\n",
              "  'Name': 'Kit Kat',\n",
              "  'Price': 15,\n",
              "  'Quantity': 23,\n",
              "  'Weight': '15g'},\n",
              " '19150004': {'Made from': 'Urad Dal',\n",
              "  'Name': 'Lizzat Papad',\n",
              "  'Price': 54,\n",
              "  'Quantity': 50,\n",
              "  'Weight': '200g'},\n",
              " '19150005': {'Flavour': 'Vanilla',\n",
              "  'Name': 'Bourbon',\n",
              "  'Price': 50,\n",
              "  'Quantity': 27,\n",
              "  'Weight': '100g'},\n",
              " '19150006': {'Flavour': 'Chocalate',\n",
              "  'Name': 'Dark Fantasy',\n",
              "  'Price': 30,\n",
              "  'Quantity': 12,\n",
              "  'Weight': '75g'},\n",
              " '19150007': {'Brand': 'Britania',\n",
              "  'Name': 'Marie Gold',\n",
              "  'Price': 60,\n",
              "  'Quantity': 25,\n",
              "  'Weight': '150g'},\n",
              " '19150008': {'Brand': 'Britania',\n",
              "  'Name': 'Nice',\n",
              "  'Price': 30,\n",
              "  'Quantity': 19,\n",
              "  'Weight': '200g'},\n",
              " '19150009': {'Brand': 'Nestle',\n",
              "  'Name': 'Maggie',\n",
              "  'Price': 10,\n",
              "  'Quantity': 100,\n",
              "  'Weight': '100g'},\n",
              " '19150010': {'Brand': 'Nestle',\n",
              "  'Name': 'Nescafe',\n",
              "  'Price': 150,\n",
              "  'Quantity': 20,\n",
              "  'Weight': '100g'},\n",
              " '19150011': {'Brand': 'Society',\n",
              "  'Name': 'Society Tea',\n",
              "  'Price': 80,\n",
              "  'Quantity': 25,\n",
              "  'Weight': '100g'},\n",
              " '19150012': {'Flavour': 'Salted',\n",
              "  'Name': 'Premia Regular Kaju',\n",
              "  'Price': 485,\n",
              "  'Quantity': 25,\n",
              "  'Weight': '500g'},\n",
              " '19150013': {'Brand': 'Premia',\n",
              "  'Name': 'Jeera',\n",
              "  'Price': 47,\n",
              "  'Quantity': 25,\n",
              "  'Weight': '200g'},\n",
              " '19150014': {'Brand': 'Premia',\n",
              "  'Name': 'Dry Coconut',\n",
              "  'Price': 180,\n",
              "  'Quantity': 6,\n",
              "  'Weight': '500g'},\n",
              " '19150015': {'Flavour': 'Salted',\n",
              "  'Name': 'Pistachio',\n",
              "  'Price': 242,\n",
              "  'Quantity': 19,\n",
              "  'Weight': '200g'},\n",
              " '19150016': {'Brand': 'Date Crown',\n",
              "  'Name': 'Dates',\n",
              "  'Price': 184,\n",
              "  'Quantity': 12,\n",
              "  'Weight': '500g'},\n",
              " '19150017': {'Brand': 'Premia',\n",
              "  'Name': 'Black Pepper',\n",
              "  'Price': 70,\n",
              "  'Quantity': 30,\n",
              "  'Weight': '100g'},\n",
              " '19150018': {'Brand': 'Premia',\n",
              "  'Name': 'Badishep',\n",
              "  'Price': 68,\n",
              "  'Quantity': 25,\n",
              "  'Weight': '200g'},\n",
              " '19150019': {'Brand': 'Premia',\n",
              "  'Name': 'Dhaniya',\n",
              "  'Price': 105,\n",
              "  'Quantity': 25,\n",
              "  'Weight': '400g'},\n",
              " '19150020': {'Brand': 'Premia',\n",
              "  'Name': 'Green elaichi',\n",
              "  'Price': 21,\n",
              "  'Quantity': 45,\n",
              "  'Weight': '10g'},\n",
              " '19150021': {'Flavour': 'Chocalate',\n",
              "  'Name': 'Perk',\n",
              "  'Price': 10,\n",
              "  'Quantity': 50,\n",
              "  'Weight': '20g'},\n",
              " '19150022': {'Flavour': 'Chocalate',\n",
              "  'Name': 'Dairy Milk',\n",
              "  'Price': 10,\n",
              "  'Quantity': 50,\n",
              "  'Weight': '15g'},\n",
              " '19150023': {'Brand': 'Premia',\n",
              "  'Name': 'Emli',\n",
              "  'Price': 98,\n",
              "  'Quantity': 33,\n",
              "  'Weight': '500g'},\n",
              " '19150024': {'Brand': 'Premia',\n",
              "  'Name': 'Poha',\n",
              "  'Price': 27,\n",
              "  'Quantity': 28,\n",
              "  'Weight': '500g'},\n",
              " '19150025': {'Brand': 'Premia',\n",
              "  'Name': 'Haldi Powder',\n",
              "  'Price': 29,\n",
              "  'Quantity': 17,\n",
              "  'Weight': '200g'},\n",
              " '19150026': {'Brand': 'Premia',\n",
              "  'Name': 'Chilli',\n",
              "  'Price': 51,\n",
              "  'Quantity': 29,\n",
              "  'Weight': '100g'},\n",
              " '19150027': {'Brand': 'Premia',\n",
              "  'Name': 'Dhaniya dal',\n",
              "  'Price': 30,\n",
              "  'Quantity': 36,\n",
              "  'Weight': '100g'},\n",
              " '19150028': {'Brand': 'Premia',\n",
              "  'Name': 'Dry Apricot',\n",
              "  'Price': 133,\n",
              "  'Quantity': 25,\n",
              "  'Weight': '200g'},\n",
              " '19150029': {'Brand': 'Premia',\n",
              "  'Name': 'Malwani Masala',\n",
              "  'Price': 69,\n",
              "  'Quantity': 19,\n",
              "  'Weight': '200g'},\n",
              " '19150030': {'Brand': 'Premia',\n",
              "  'Name': 'Jardalu',\n",
              "  'Price': 61,\n",
              "  'Quantity': 11,\n",
              "  'Weight': '100g'}}"
            ]
          },
          "metadata": {},
          "execution_count": 131
        }
      ]
    },
    {
      "cell_type": "code",
      "metadata": {
        "id": "cR3hvguRndv1"
      },
      "source": [
        "a=json.dumps(inventory_updated)"
      ],
      "execution_count": 132,
      "outputs": []
    },
    {
      "cell_type": "code",
      "metadata": {
        "id": "TBCmW6qZZ4gN"
      },
      "source": [
        "files=open('files_updated.json','w')\n",
        "files.write(a)\n",
        "files.close()\n"
      ],
      "execution_count": 133,
      "outputs": []
    },
    {
      "cell_type": "markdown",
      "metadata": {
        "id": "5xlS4bAmA8pk"
      },
      "source": [
        "# Sales"
      ]
    },
    {
      "cell_type": "code",
      "metadata": {
        "id": "Dw5LIFgsBBGq"
      },
      "source": [
        "a={'Product ID':str(z),'Name': inventory_updated[str(z)]['Name'],'Billing Amount after 3% GST':inventory_updated[str(z)]['Price']*amount*0.03+inventory_updated[str(z)]['Price']*amount,'Order time':time.ctime(),'Quantity':amount}"
      ],
      "execution_count": 134,
      "outputs": []
    },
    {
      "cell_type": "code",
      "metadata": {
        "id": "68d1d9gIDkyX"
      },
      "source": [
        "for i in range(r,r+1):\n",
        "  sales[i]=a\n",
        "r+=1"
      ],
      "execution_count": 135,
      "outputs": []
    },
    {
      "cell_type": "code",
      "metadata": {
        "colab": {
          "base_uri": "https://localhost:8080/"
        },
        "id": "94ouV8J7FXYk",
        "outputId": "c5b44b13-34eb-4623-adfa-73e2df564955"
      },
      "source": [
        "sales"
      ],
      "execution_count": 136,
      "outputs": [
        {
          "output_type": "execute_result",
          "data": {
            "text/plain": [
              "{1: {'Billing Amount after 3% GST': 30.9,\n",
              "  'Name': 'Kit Kat',\n",
              "  'Order time': 'Mon Sep  6 05:20:32 2021',\n",
              "  'Product ID': '19150003',\n",
              "  'Quantity': 2},\n",
              " 2: {'Billing Amount after 3% GST': 154.5,\n",
              "  'Name': 'Bourbon',\n",
              "  'Order time': 'Mon Sep  6 05:21:17 2021',\n",
              "  'Product ID': '19150005',\n",
              "  'Quantity': 3},\n",
              " 3: {'Billing Amount after 3% GST': 1495.56,\n",
              "  'Name': 'Pistachio',\n",
              "  'Order time': 'Mon Sep  6 05:22:02 2021',\n",
              "  'Product ID': '19150015',\n",
              "  'Quantity': 6},\n",
              " 4: {'Billing Amount after 3% GST': 201.88,\n",
              "  'Name': 'Emli',\n",
              "  'Order time': 'Mon Sep  6 05:22:39 2021',\n",
              "  'Product ID': '19150023',\n",
              "  'Quantity': 2},\n",
              " 5: {'Billing Amount after 3% GST': 119.48,\n",
              "  'Name': 'Haldi Powder',\n",
              "  'Order time': 'Mon Sep  6 05:23:07 2021',\n",
              "  'Product ID': '19150025',\n",
              "  'Quantity': 4},\n",
              " 6: {'Billing Amount after 3% GST': 30.9,\n",
              "  'Name': 'Nice',\n",
              "  'Order time': 'Mon Sep  6 05:26:33 2021',\n",
              "  'Product ID': '19150008',\n",
              "  'Quantity': 1},\n",
              " 7: {'Billing Amount after 3% GST': 92.7,\n",
              "  'Name': 'Dark Fantasy',\n",
              "  'Order time': 'Mon Sep  6 05:27:06 2021',\n",
              "  'Product ID': '19150006',\n",
              "  'Quantity': 3},\n",
              " 8: {'Billing Amount after 3% GST': 426.42,\n",
              "  'Name': 'Malwani Masala',\n",
              "  'Order time': 'Mon Sep  6 05:30:22 2021',\n",
              "  'Product ID': '19150029',\n",
              "  'Quantity': 6},\n",
              " 9: {'Billing Amount after 3% GST': 741.6,\n",
              "  'Name': 'Dry Coconut',\n",
              "  'Order time': 'Mon Sep  6 05:31:11 2021',\n",
              "  'Product ID': '19150014',\n",
              "  'Quantity': 4},\n",
              " 10: {'Billing Amount after 3% GST': 108.15,\n",
              "  'Name': 'Green elaichi',\n",
              "  'Order time': 'Mon Sep  6 05:31:57 2021',\n",
              "  'Product ID': '19150020',\n",
              "  'Quantity': 5}}"
            ]
          },
          "metadata": {},
          "execution_count": 136
        }
      ]
    },
    {
      "cell_type": "code",
      "metadata": {
        "id": "Q8xo9DmeH8kz"
      },
      "source": [
        "a=json.dumps(sales)\n",
        "files=open('sales.json','w')\n",
        "files.write(a)\n",
        "files.close()"
      ],
      "execution_count": 137,
      "outputs": []
    }
  ]
}